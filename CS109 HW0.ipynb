{
 "metadata": {
  "name": "CS109 HW0"
 },
 "nbformat": 3,
 "nbformat_minor": 0,
 "worksheets": [
  {
   "cells": [
    {
     "cell_type": "code",
     "collapsed": false,
     "input": "import numpy as np\nimport matplotlib.pyplot as plt  \n%matplotlib inline",
     "language": "python",
     "metadata": {},
     "outputs": [],
     "prompt_number": 9
    },
    {
     "cell_type": "code",
     "collapsed": false,
     "input": "x = np.random.random((3, 4))",
     "language": "python",
     "metadata": {},
     "outputs": [],
     "prompt_number": 10
    },
    {
     "cell_type": "code",
     "collapsed": false,
     "input": "print(\"Print the maximum, minimum, and mean of the array.\")",
     "language": "python",
     "metadata": {},
     "outputs": [
      {
       "output_type": "stream",
       "stream": "stdout",
       "text": "Print the maximum, minimum, and mean of the array.\n"
      }
     ],
     "prompt_number": 11
    },
    {
     "cell_type": "code",
     "collapsed": false,
     "input": "print(x.max(),x.min(),x.mean())",
     "language": "python",
     "metadata": {},
     "outputs": [
      {
       "output_type": "stream",
       "stream": "stdout",
       "text": "(0.94078465447486836, 0.0018990051038645372, 0.43306559522847765)\n"
      }
     ],
     "prompt_number": 12
    },
    {
     "cell_type": "code",
     "collapsed": false,
     "input": "print(\"Call the x.max function again, but use the axis keyword to print the maximum of each row in x.\")\n",
     "language": "python",
     "metadata": {},
     "outputs": [
      {
       "output_type": "stream",
       "stream": "stdout",
       "text": "Call the x.max function again, but use the axis keyword to print the maximum of each row in x.\n"
      }
     ],
     "prompt_number": 13
    },
    {
     "cell_type": "code",
     "collapsed": false,
     "input": "print(x.max(axis=0),x.max(axis=1))",
     "language": "python",
     "metadata": {},
     "outputs": [
      {
       "output_type": "stream",
       "stream": "stdout",
       "text": "(array([ 0.88709642,  0.64560256,  0.37076736,  0.94078465]), array([ 0.85189777,  0.88709642,  0.94078465]))\n"
      }
     ],
     "prompt_number": 14
    },
    {
     "cell_type": "code",
     "collapsed": false,
     "input": "coin = x = np.random.binomial(500, .5, size=500)",
     "language": "python",
     "metadata": {},
     "outputs": [],
     "prompt_number": 15
    },
    {
     "cell_type": "code",
     "collapsed": false,
     "input": "plt.hist(coin)",
     "language": "python",
     "metadata": {},
     "outputs": [
      {
       "metadata": {},
       "output_type": "pyout",
       "prompt_number": 16,
       "text": "(array([   8.,   25.,   52.,  113.,  122.,  113.,   47.,   13.,    5.,    2.]),\n array([ 218. ,  225.2,  232.4,  239.6,  246.8,  254. ,  261.2,  268.4,\n        275.6,  282.8,  290. ]),\n <a list of 10 Patch objects>)"
      },
      {
       "metadata": {},
       "output_type": "display_data",
       "png": "[encoded data removed]",
       "text": "<matplotlib.figure.Figure at 0x10766c950>"
      }
     ],
     "prompt_number": 16
    },
    {
     "cell_type": "code",
     "collapsed": false,
     "input": "\"\"\"\nFunction\n--------\nsimulate_prizedoor\n\nGenerate a random array of 0s, 1s, and 2s, representing\nhiding a prize between door 0, door 1, and door 2\n\nParameters\n----------\nnsim : int\n    The number of simulations to run\n\nReturns\n-------\nsims : array\n    Random array of 0s, 1s, and 2s\n\nExample\n-------\n>>> print simulate_prizedoor(3)\narray([0, 0, 2])\n\"\"\"\ndef simulate_prizedoor(nsim):\n    answer = np.random.random_integers(0,2,nsim)\n    return answer\n",
     "language": "python",
     "metadata": {},
     "outputs": [],
     "prompt_number": 19
    },
    {
     "cell_type": "code",
     "collapsed": false,
     "input": "simulate_prizedoor(10)",
     "language": "python",
     "metadata": {},
     "outputs": [
      {
       "metadata": {},
       "output_type": "pyout",
       "prompt_number": 20,
       "text": "array([1, 2, 1, 1, 0, 1, 0, 0, 1, 2])"
      }
     ],
     "prompt_number": 20
    },
    {
     "cell_type": "code",
     "collapsed": false,
     "input": "\"\"\"\nFunction\n--------\nsimulate_guess\n\nReturn any strategy for guessing which door a prize is behind. This\ncould be a random strategy, one that always guesses 2, whatever.\n\nParameters\n----------\nnsim : int\n    The number of simulations to generate guesses for\n\nReturns\n-------\nguesses : array\n    An array of guesses. Each guess is a 0, 1, or 2\n\nExample\n-------\n>>> print simulate_guess(5)\narray([0, 0, 0, 0, 0])\n\"\"\"\ndef simulate_guess(nsim):\n    guesses = np.random.random_integers(0,2,nsim)\n    return guesses",
     "language": "python",
     "metadata": {},
     "outputs": [],
     "prompt_number": 21
    },
    {
     "cell_type": "code",
     "collapsed": false,
     "input": "\"\"\"\nFunction\n--------\ngoat_door\n\nSimulate the opening of a \"goat door\" that doesn't contain the prize,\nand is different from the contestants guess\n\nParameters\n----------\nprizedoors : array\n    The door that the prize is behind in each simulation\nguesses : array\n    THe door that the contestant guessed in each simulation\n\nReturns\n-------\ngoats : array\n    The goat door that is opened for each simulation. Each item is 0, 1, or 2, and is different\n    from both prizedoors and guesses\n\nExamples\n--------\n>>> print goat_door(np.array([0, 1, 2]), np.array([1, 1, 1]))\n>>> array([2, 2, 0])\n\"\"\"\ndef goat_door(prizedoors, guesses):\n    goats = np.random.random_integers(0,2,guesses.size)\n    for i in range(0,goats.size):\n        if (prizedoors[i] == 0 and guesses[i]== 1) or (prizedoors[i] == 1 and guesses[i]== 0):\n            goats[i]= 2\n        elif (prizedoors[i] == 1 and guesses[i]== 2) or (prizedoors[i] == 2 and guesses[i]== 1):\n            goats[i]= 0\n        elif (prizedoors[i] == 0 and guesses[i]== 2) or (prizedoors[i] == 2 and guesses[i]== 0):\n            goats[i]= 1\n        elif prizedoors[i]==0:\n            goats[i]= np.random.random_integers(1,2)\n        elif prizedoors[i]==2:\n            goats[i]= np.random.random_integers(0,1)\n        elif prizedoors[i]==1:\n            goats[i]= np.random.random_integers(0,1)\n            if goats[i]==1:\n                goats[i]=2\n    return goats\n    ",
     "language": "python",
     "metadata": {},
     "outputs": [],
     "prompt_number": 161
    },
    {
     "cell_type": "code",
     "collapsed": false,
     "input": "goats = goat_door(simulate_prizedoor(10),simulate_guess(10))",
     "language": "python",
     "metadata": {},
     "outputs": [],
     "prompt_number": 177
    },
    {
     "cell_type": "code",
     "collapsed": false,
     "input": "\"\"\"\nFunction\n--------\nswitch_guess\n\nThe strategy that always switches a guess after the goat door is opened\n\nParameters\n----------\nguesses : array\n     Array of original guesses, for each simulation\ngoatdoors : array\n     Array of revealed goat doors for each simulation\n\nReturns\n-------\nThe new door after switching. Should be different from both guesses and goatdoors\n\nExamples\n--------\n>>> print switch_guess(np.array([0, 1, 2]), np.array([1, 2, 1]))\n>>> array([2, 0, 0])\n\"\"\"\ndef switch_guess(guesses, goatdoors):\n    newdoors = np.random.random_integers(0,2,guesses.size)\n    for i in range(0,guesses.size):\n        for x in range(0,3):\n            if x not in (guesses[i],goatdoors[i]):\n                newdoors[i] = x\n    return newdoors\n                \n    ",
     "language": "python",
     "metadata": {},
     "outputs": [],
     "prompt_number": 181
    },
    {
     "cell_type": "code",
     "collapsed": false,
     "input": "switch_guess(simulate_guess(10),goat_door(simulate_prizedoor(10),simulate_guess(10)))",
     "language": "python",
     "metadata": {},
     "outputs": [
      {
       "metadata": {},
       "output_type": "pyout",
       "prompt_number": 182,
       "text": "array([1, 2, 2, 2, 1, 1, 2, 2, 2, 1])"
      }
     ],
     "prompt_number": 182
    },
    {
     "cell_type": "code",
     "collapsed": false,
     "input": "\"\"\"\nFunction\n--------\nwin_percentage\n\nCalculate the percent of times that a simulation of guesses is correct\n\nParameters\n-----------\nguesses : array\n    Guesses for each simulation\nprizedoors : array\n    Location of prize for each simulation\n\nReturns\n--------\npercentage : number between 0 and 100\n    The win percentage\n\nExamples\n---------\n>>> print win_percentage(np.array([0, 1, 2]), np.array([0, 0, 0]))\n33.333\n\"\"\"\ndef win_percentage(guesses,prizedoors):\n    right=0\n    for i in range(0,guesses.size):\n        if guesses[i]==prizedoors[i]:\n            right+=1\n    return float(right)/float(guesses.size)\n",
     "language": "python",
     "metadata": {},
     "outputs": [],
     "prompt_number": 196
    },
    {
     "cell_type": "code",
     "collapsed": false,
     "input": "win_percentage(simulate_guess(10), simulate_prizedoor(10))",
     "language": "python",
     "metadata": {},
     "outputs": [
      {
       "metadata": {},
       "output_type": "pyout",
       "prompt_number": 197,
       "text": "0.6"
      }
     ],
     "prompt_number": 197
    },
    {
     "cell_type": "code",
     "collapsed": false,
     "input": "def wins_no_switch(nsim,games):\n    win_percent = np.empty([games,1],dtype=float)\n    for i in range(0,games):\n        win_percent[i]=win_percentage(simulate_guess(nsim), simulate_prizedoor(nsim))\n    return win_percent    \n    \n        ",
     "language": "python",
     "metadata": {},
     "outputs": [],
     "prompt_number": 215
    },
    {
     "cell_type": "code",
     "collapsed": false,
     "input": "x=wins_no_switch(100,1000)",
     "language": "python",
     "metadata": {},
     "outputs": [],
     "prompt_number": 217
    },
    {
     "cell_type": "code",
     "collapsed": false,
     "input": "def wins_switch(nsim,games):\n    win_percent = np.empty([games,1],dtype=float)\n    for i in range(0,games):\n        doors=simulate_prizedoor(nsim)\n        guesses=simulate_guess(nsim)\n        win_percent[i]=win_percentage(switch_guess(guesses,goat_door(doors,guesses)),doors)\n    return win_percent  ",
     "language": "python",
     "metadata": {},
     "outputs": [],
     "prompt_number": 225
    },
    {
     "cell_type": "code",
     "collapsed": false,
     "input": "y=wins_switch(100,1000)",
     "language": "python",
     "metadata": {},
     "outputs": [],
     "prompt_number": 226
    },
    {
     "cell_type": "code",
     "collapsed": false,
     "input": "x.mean()",
     "language": "python",
     "metadata": {},
     "outputs": [
      {
       "metadata": {},
       "output_type": "pyout",
       "prompt_number": 227,
       "text": "0.33356000000000025"
      }
     ],
     "prompt_number": 227
    },
    {
     "cell_type": "code",
     "collapsed": false,
     "input": "y.mean()",
     "language": "python",
     "metadata": {},
     "outputs": [
      {
       "metadata": {},
       "output_type": "pyout",
       "prompt_number": 228,
       "text": "0.66423999999999983"
      }
     ],
     "prompt_number": 228
    },
    {
     "cell_type": "code",
     "collapsed": false,
     "input": "plt.hist(x, alpha=0.5, label='no switch')\nplt.hist(y, alpha=0.5, label='switch')\nplt.legend(loc='upper right')\nplt.show()",
     "language": "python",
     "metadata": {},
     "outputs": [
      {
       "metadata": {},
       "output_type": "display_data",
       "png": "[encoded data removed]",
       "text": "<matplotlib.figure.Figure at 0x108327890>"
      }
     ],
     "prompt_number": 233
    },
    {
     "cell_type": "code",
     "collapsed": false,
     "input": "",
     "language": "python",
     "metadata": {},
     "outputs": []
    }
   ],
   "metadata": {}
  }
 ]
}