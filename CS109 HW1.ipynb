{
 "metadata": {
  "name": ""
 },
 "nbformat": 3,
 "nbformat_minor": 0,
 "worksheets": [
  {
   "cells": [
    {
     "cell_type": "code",
     "collapsed": false,
     "input": [
      "zipdat = r.get('http://seanlahman.com/files/database/lahman-csv_2014-02-14.zip')"
     ],
     "language": "python",
     "metadata": {},
     "outputs": [],
     "prompt_number": 9
    },
    {
     "cell_type": "code",
     "collapsed": false,
     "input": [
      "%matplotlib inline \n",
      "\n",
      "import numpy as np\n",
      "import pandas as pd\n",
      "import matplotlib.pyplot as plt\n",
      "import requests as r\n",
      "import zipfile\n",
      "import StringIO"
     ],
     "language": "python",
     "metadata": {},
     "outputs": [],
     "prompt_number": 8
    },
    {
     "cell_type": "code",
     "collapsed": false,
     "input": [
      "zipDocument = zipfile.ZipFile(StringIO.StringIO(zipdat.content))"
     ],
     "language": "python",
     "metadata": {},
     "outputs": [],
     "prompt_number": 10
    },
    {
     "cell_type": "code",
     "collapsed": false,
     "input": [
      "zipDocument.namelist()"
     ],
     "language": "python",
     "metadata": {},
     "outputs": [
      {
       "metadata": {},
       "output_type": "pyout",
       "prompt_number": 24,
       "text": [
        "['SchoolsPlayers.csv',\n",
        " 'SeriesPost.csv',\n",
        " 'Teams.csv',\n",
        " 'TeamsFranchises.csv',\n",
        " 'TeamsHalf.csv',\n",
        " 'AllstarFull.csv',\n",
        " 'Appearances.csv',\n",
        " 'AwardsManagers.csv',\n",
        " 'AwardsPlayers.csv',\n",
        " 'AwardsShareManagers.csv',\n",
        " 'AwardsSharePlayers.csv',\n",
        " 'Batting.csv',\n",
        " 'BattingPost.csv',\n",
        " 'Fielding.csv',\n",
        " 'FieldingOF.csv',\n",
        " 'FieldingPost.csv',\n",
        " 'HallOfFame.csv',\n",
        " 'Managers.csv',\n",
        " 'ManagersHalf.csv',\n",
        " 'Master.csv',\n",
        " 'Pitching.csv',\n",
        " 'PitchingPost.csv',\n",
        " 'readme2013.txt',\n",
        " 'Salaries.csv',\n",
        " 'Schools.csv']"
       ]
      }
     ],
     "prompt_number": 24
    },
    {
     "cell_type": "code",
     "collapsed": false,
     "input": [
      "salaries = pd.read_csv(zipDocument.open('Salaries.csv'))\n",
      "salaries.head()"
     ],
     "language": "python",
     "metadata": {},
     "outputs": [
      {
       "html": [
        "<div style=\"max-height:1000px;max-width:1500px;overflow:auto;\">\n",
        "<table border=\"1\" class=\"dataframe\">\n",
        "  <thead>\n",
        "    <tr style=\"text-align: right;\">\n",
        "      <th></th>\n",
        "      <th>yearID</th>\n",
        "      <th>teamID</th>\n",
        "      <th>lgID</th>\n",
        "      <th>playerID</th>\n",
        "      <th>salary</th>\n",
        "    </tr>\n",
        "  </thead>\n",
        "  <tbody>\n",
        "    <tr>\n",
        "      <th>0</th>\n",
        "      <td> 1985</td>\n",
        "      <td> BAL</td>\n",
        "      <td> AL</td>\n",
        "      <td> murraed02</td>\n",
        "      <td> 1472819</td>\n",
        "    </tr>\n",
        "    <tr>\n",
        "      <th>1</th>\n",
        "      <td> 1985</td>\n",
        "      <td> BAL</td>\n",
        "      <td> AL</td>\n",
        "      <td>  lynnfr01</td>\n",
        "      <td> 1090000</td>\n",
        "    </tr>\n",
        "    <tr>\n",
        "      <th>2</th>\n",
        "      <td> 1985</td>\n",
        "      <td> BAL</td>\n",
        "      <td> AL</td>\n",
        "      <td> ripkeca01</td>\n",
        "      <td>  800000</td>\n",
        "    </tr>\n",
        "    <tr>\n",
        "      <th>3</th>\n",
        "      <td> 1985</td>\n",
        "      <td> BAL</td>\n",
        "      <td> AL</td>\n",
        "      <td>  lacyle01</td>\n",
        "      <td>  725000</td>\n",
        "    </tr>\n",
        "    <tr>\n",
        "      <th>4</th>\n",
        "      <td> 1985</td>\n",
        "      <td> BAL</td>\n",
        "      <td> AL</td>\n",
        "      <td> flanami01</td>\n",
        "      <td>  641667</td>\n",
        "    </tr>\n",
        "  </tbody>\n",
        "</table>\n",
        "</div>"
       ],
       "metadata": {},
       "output_type": "pyout",
       "prompt_number": 27,
       "text": [
        "   yearID teamID lgID   playerID   salary\n",
        "0    1985    BAL   AL  murraed02  1472819\n",
        "1    1985    BAL   AL   lynnfr01  1090000\n",
        "2    1985    BAL   AL  ripkeca01   800000\n",
        "3    1985    BAL   AL   lacyle01   725000\n",
        "4    1985    BAL   AL  flanami01   641667"
       ]
      }
     ],
     "prompt_number": 27
    },
    {
     "cell_type": "code",
     "collapsed": false,
     "input": [
      "teams = pd.read_csv(zipDocument.open('Teams.csv'))\n",
      "teams.head()"
     ],
     "language": "python",
     "metadata": {},
     "outputs": [
      {
       "html": [
        "<pre>\n",
        "&lt;class 'pandas.core.frame.DataFrame'&gt;\n",
        "Int64Index: 5 entries, 0 to 4\n",
        "Data columns (total 48 columns):\n",
        "yearID            5  non-null values\n",
        "lgID              0  non-null values\n",
        "teamID            5  non-null values\n",
        "franchID          5  non-null values\n",
        "divID             0  non-null values\n",
        "Rank              5  non-null values\n",
        "G                 5  non-null values\n",
        "Ghome             0  non-null values\n",
        "W                 5  non-null values\n",
        "L                 5  non-null values\n",
        "DivWin            0  non-null values\n",
        "WCWin             0  non-null values\n",
        "LgWin             5  non-null values\n",
        "WSWin             0  non-null values\n",
        "R                 5  non-null values\n",
        "AB                5  non-null values\n",
        "H                 5  non-null values\n",
        "2B                5  non-null values\n",
        "3B                5  non-null values\n",
        "HR                5  non-null values\n",
        "BB                5  non-null values\n",
        "SO                5  non-null values\n",
        "SB                5  non-null values\n",
        "CS                0  non-null values\n",
        "HBP               0  non-null values\n",
        "SF                0  non-null values\n",
        "RA                5  non-null values\n",
        "ER                5  non-null values\n",
        "ERA               5  non-null values\n",
        "CG                5  non-null values\n",
        "SHO               5  non-null values\n",
        "SV                5  non-null values\n",
        "IPouts            5  non-null values\n",
        "HA                5  non-null values\n",
        "HRA               5  non-null values\n",
        "BBA               5  non-null values\n",
        "SOA               5  non-null values\n",
        "E                 5  non-null values\n",
        "DP                0  non-null values\n",
        "FP                5  non-null values\n",
        "name              5  non-null values\n",
        "park              5  non-null values\n",
        "attendance        0  non-null values\n",
        "BPF               5  non-null values\n",
        "PPF               5  non-null values\n",
        "teamIDBR          5  non-null values\n",
        "teamIDlahman45    5  non-null values\n",
        "teamIDretro       5  non-null values\n",
        "dtypes: float64(10), int64(25), object(13)\n",
        "</pre>"
       ],
       "metadata": {},
       "output_type": "pyout",
       "prompt_number": 28,
       "text": [
        "<class 'pandas.core.frame.DataFrame'>\n",
        "Int64Index: 5 entries, 0 to 4\n",
        "Data columns (total 48 columns):\n",
        "yearID            5  non-null values\n",
        "lgID              0  non-null values\n",
        "teamID            5  non-null values\n",
        "franchID          5  non-null values\n",
        "divID             0  non-null values\n",
        "Rank              5  non-null values\n",
        "G                 5  non-null values\n",
        "Ghome             0  non-null values\n",
        "W                 5  non-null values\n",
        "L                 5  non-null values\n",
        "DivWin            0  non-null values\n",
        "WCWin             0  non-null values\n",
        "LgWin             5  non-null values\n",
        "WSWin             0  non-null values\n",
        "R                 5  non-null values\n",
        "AB                5  non-null values\n",
        "H                 5  non-null values\n",
        "2B                5  non-null values\n",
        "3B                5  non-null values\n",
        "HR                5  non-null values\n",
        "BB                5  non-null values\n",
        "SO                5  non-null values\n",
        "SB                5  non-null values\n",
        "CS                0  non-null values\n",
        "HBP               0  non-null values\n",
        "SF                0  non-null values\n",
        "RA                5  non-null values\n",
        "ER                5  non-null values\n",
        "ERA               5  non-null values\n",
        "CG                5  non-null values\n",
        "SHO               5  non-null values\n",
        "SV                5  non-null values\n",
        "IPouts            5  non-null values\n",
        "HA                5  non-null values\n",
        "HRA               5  non-null values\n",
        "BBA               5  non-null values\n",
        "SOA               5  non-null values\n",
        "E                 5  non-null values\n",
        "DP                0  non-null values\n",
        "FP                5  non-null values\n",
        "name              5  non-null values\n",
        "park              5  non-null values\n",
        "attendance        0  non-null values\n",
        "BPF               5  non-null values\n",
        "PPF               5  non-null values\n",
        "teamIDBR          5  non-null values\n",
        "teamIDlahman45    5  non-null values\n",
        "teamIDretro       5  non-null values\n",
        "dtypes: float64(10), int64(25), object(13)"
       ]
      }
     ],
     "prompt_number": 28
    },
    {
     "cell_type": "code",
     "collapsed": false,
     "input": [
      "salaries.shape"
     ],
     "language": "python",
     "metadata": {},
     "outputs": [
      {
       "metadata": {},
       "output_type": "pyout",
       "prompt_number": 35,
       "text": [
        "(23956, 5)"
       ]
      }
     ],
     "prompt_number": 35
    },
    {
     "cell_type": "code",
     "collapsed": false,
     "input": [
      "teams.shape"
     ],
     "language": "python",
     "metadata": {},
     "outputs": [
      {
       "metadata": {},
       "output_type": "pyout",
       "prompt_number": 36,
       "text": [
        "(2745, 48)"
       ]
      }
     ],
     "prompt_number": 36
    },
    {
     "cell_type": "code",
     "collapsed": false,
     "input": [
      "grouped = salaries.groupby(['yearID','teamID'],as_index=False)\n",
      "teamSalaries = grouped.sum()\n"
     ],
     "language": "python",
     "metadata": {},
     "outputs": [],
     "prompt_number": 88
    },
    {
     "cell_type": "code",
     "collapsed": false,
     "input": [
      "teamSalaries.columns"
     ],
     "language": "python",
     "metadata": {},
     "outputs": [
      {
       "metadata": {},
       "output_type": "pyout",
       "prompt_number": 91,
       "text": [
        "Index([u'yearID', u'teamID', u'salary'], dtype=object)"
       ]
      }
     ],
     "prompt_number": 91
    },
    {
     "cell_type": "code",
     "collapsed": false,
     "input": [
      "teams.columns"
     ],
     "language": "python",
     "metadata": {},
     "outputs": [
      {
       "metadata": {},
       "output_type": "pyout",
       "prompt_number": 92,
       "text": [
        "Index([u'yearID', u'lgID', u'teamID', u'franchID', u'divID', u'Rank', u'G', u'Ghome', u'W', u'L', u'DivWin', u'WCWin', u'LgWin', u'WSWin', u'R', u'AB', u'H', u'2B', u'3B', u'HR', u'BB', u'SO', u'SB', u'CS', u'HBP', u'SF', u'RA', u'ER', u'ERA', u'CG', u'SHO', u'SV', u'IPouts', u'HA', u'HRA', u'BBA', u'SOA', u'E', u'DP', u'FP', u'name', u'park', u'attendance', u'BPF', u'PPF', u'teamIDBR', u'teamIDlahman45', u'teamIDretro'], dtype=object)"
       ]
      }
     ],
     "prompt_number": 92
    },
    {
     "cell_type": "code",
     "collapsed": false,
     "input": [
      "teamWins = teams[['yearID','teamID','W']]"
     ],
     "language": "python",
     "metadata": {},
     "outputs": [],
     "prompt_number": 96
    },
    {
     "cell_type": "code",
     "collapsed": false,
     "input": [
      "salariesWins = pd.merge(teamSalaries,teamWins,on=['yearID','teamID'])"
     ],
     "language": "python",
     "metadata": {},
     "outputs": [],
     "prompt_number": 98
    },
    {
     "cell_type": "code",
     "collapsed": false,
     "input": [
      "salariesWins.head(2)"
     ],
     "language": "python",
     "metadata": {},
     "outputs": [
      {
       "html": [
        "<div style=\"max-height:1000px;max-width:1500px;overflow:auto;\">\n",
        "<table border=\"1\" class=\"dataframe\">\n",
        "  <thead>\n",
        "    <tr style=\"text-align: right;\">\n",
        "      <th></th>\n",
        "      <th>yearID</th>\n",
        "      <th>teamID</th>\n",
        "      <th>salary</th>\n",
        "      <th>W</th>\n",
        "    </tr>\n",
        "  </thead>\n",
        "  <tbody>\n",
        "    <tr>\n",
        "      <th>0</th>\n",
        "      <td> 1985</td>\n",
        "      <td> ATL</td>\n",
        "      <td> 14807000</td>\n",
        "      <td> 66</td>\n",
        "    </tr>\n",
        "    <tr>\n",
        "      <th>1</th>\n",
        "      <td> 1985</td>\n",
        "      <td> BAL</td>\n",
        "      <td> 11560712</td>\n",
        "      <td> 83</td>\n",
        "    </tr>\n",
        "  </tbody>\n",
        "</table>\n",
        "</div>"
       ],
       "metadata": {},
       "output_type": "pyout",
       "prompt_number": 101,
       "text": [
        "   yearID teamID    salary   W\n",
        "0    1985    ATL  14807000  66\n",
        "1    1985    BAL  11560712  83"
       ]
      }
     ],
     "prompt_number": 101
    },
    {
     "cell_type": "code",
     "collapsed": false,
     "input": [],
     "language": "python",
     "metadata": {},
     "outputs": []
    }
   ],
   "metadata": {}
  }
 ]
}